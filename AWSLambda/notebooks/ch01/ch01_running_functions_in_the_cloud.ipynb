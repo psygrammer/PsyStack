{
  "nbformat": 4,
  "nbformat_minor": 0,
  "metadata": {
    "colab": {
      "name": "ch01_running_functions_in_the_cloud.ipynb",
      "provenance": [],
      "include_colab_link": true
    },
    "kernelspec": {
      "display_name": "Python 3",
      "language": "python",
      "name": "python3"
    },
    "language_info": {
      "codemirror_mode": {
        "name": "ipython",
        "version": 3
      },
      "file_extension": ".py",
      "mimetype": "text/x-python",
      "name": "python",
      "nbconvert_exporter": "python",
      "pygments_lexer": "ipython3",
      "version": "3.6.8"
    }
  },
  "cells": [
    {
      "cell_type": "markdown",
      "metadata": {
        "id": "view-in-github",
        "colab_type": "text"
      },
      "source": [
        "<a href=\"https://colab.research.google.com/github/psygrammer/PsyStack/blob/master/AWSLambda/notebooks/ch01/ch01_running_functions_in_the_cloud.ipynb\" target=\"_parent\"><img src=\"https://colab.research.google.com/assets/colab-badge.svg\" alt=\"Open In Colab\"/></a>"
      ]
    },
    {
      "cell_type": "markdown",
      "metadata": {
        "colab_type": "text",
        "id": "NtubKOVL8eZa"
      },
      "source": [
        "# Chapter 1. Running functions in the cloud"
      ]
    },
    {
      "cell_type": "markdown",
      "metadata": {
        "id": "sitv2jLDsQLE",
        "colab_type": "text"
      },
      "source": [
        "* 싸이그래머 / Ψ스택 - AWS Lamda [1]\n",
        "* 김무성"
      ]
    },
    {
      "cell_type": "markdown",
      "metadata": {
        "id": "g5W3MKc5sMLm",
        "colab_type": "text"
      },
      "source": [
        "-----------------------------"
      ]
    },
    {
      "cell_type": "markdown",
      "metadata": {
        "id": "GBb8KUw6sMLn",
        "colab_type": "text"
      },
      "source": [
        "# Contents\n",
        "* 1.1 Introducing AWS Lambda\n",
        "* 1.2 Functions as your back end\n",
        "* 1.3 A single back end for everything\n",
        "* 1.4 Event-driven application\n",
        "* 1.5 Calling functions from a client\n"
      ]
    },
    {
      "cell_type": "markdown",
      "metadata": {
        "id": "XBzEH6CSsMLo",
        "colab_type": "text"
      },
      "source": [
        "-----------------------------"
      ]
    },
    {
      "cell_type": "markdown",
      "metadata": {
        "id": "iPdg6wfhsMLp",
        "colab_type": "text"
      },
      "source": [
        "<img src=\"https://github.com/psygrammer/PsyStack/blob/master/AWSLambda/notebooks/ch01/figures/cap01.png?raw=1\" width=800 />"
      ]
    },
    {
      "cell_type": "markdown",
      "metadata": {
        "id": "q9NVG-V-sMLp",
        "colab_type": "text"
      },
      "source": [
        "# 1.1 Introducing AWS Lambda"
      ]
    },
    {
      "cell_type": "markdown",
      "metadata": {
        "id": "rc5zrwc6sMLq",
        "colab_type": "text"
      },
      "source": [
        "<img src=\"https://github.com/psygrammer/PsyStack/blob/master/AWSLambda/notebooks/ch01/figures/cap02.png?raw=1\" width=800 />"
      ]
    },
    {
      "cell_type": "markdown",
      "metadata": {
        "id": "r74QXiF5sMLr",
        "colab_type": "text"
      },
      "source": [
        "```python\n",
        "def lambda_handler(event, context):\n",
        "    result = event['value1'] + event['value2']\n",
        "    return result\n",
        "```"
      ]
    },
    {
      "cell_type": "markdown",
      "metadata": {
        "id": "8HNQ1BUEsMLs",
        "colab_type": "text"
      },
      "source": [
        "```shell\n",
        "{\n",
        "  \"value1\": 10,\n",
        "  \"value2\": 20\n",
        "}\n",
        "```"
      ]
    },
    {
      "cell_type": "markdown",
      "metadata": {
        "id": "ziT7_opUsMLu",
        "colab_type": "text"
      },
      "source": [
        "<img src=\"https://github.com/psygrammer/PsyStack/blob/master/AWSLambda/notebooks/ch01/figures/cap03.png?raw=1\" width=800 />"
      ]
    },
    {
      "cell_type": "markdown",
      "metadata": {
        "id": "t10RPVnzsMLv",
        "colab_type": "text"
      },
      "source": [
        "<img src=\"https://github.com/psygrammer/PsyStack/blob/master/AWSLambda/notebooks/ch01/figures/cap04.png?raw=1\" width=800 />"
      ]
    },
    {
      "cell_type": "markdown",
      "metadata": {
        "id": "dnl9nE6usMLw",
        "colab_type": "text"
      },
      "source": [
        "```python\n",
        "def lambda_handler(event, context):\n",
        "    print(event['message'])\n",
        "    return\n",
        "```"
      ]
    },
    {
      "cell_type": "markdown",
      "metadata": {
        "id": "dEdjFWhnsMLx",
        "colab_type": "text"
      },
      "source": [
        "```shell\n",
        "{\n",
        "  \"message\": \"This message is being logged!\"\n",
        "}\n",
        "```"
      ]
    },
    {
      "cell_type": "markdown",
      "metadata": {
        "id": "OUJislR2sMLx",
        "colab_type": "text"
      },
      "source": [
        "<img src=\"https://github.com/psygrammer/PsyStack/blob/master/AWSLambda/notebooks/ch01/figures/cap05.png?raw=1\" width=800 />"
      ]
    },
    {
      "cell_type": "markdown",
      "metadata": {
        "id": "P_XMgaT8sMLy",
        "colab_type": "text"
      },
      "source": [
        "-----------------------------"
      ]
    },
    {
      "cell_type": "markdown",
      "metadata": {
        "id": "6QNgvhx4sMLz",
        "colab_type": "text"
      },
      "source": [
        "# 1.2 Functions as your back end"
      ]
    },
    {
      "cell_type": "markdown",
      "metadata": {
        "id": "zL_wqP0JsMLz",
        "colab_type": "text"
      },
      "source": [
        "-----------------------------"
      ]
    },
    {
      "cell_type": "markdown",
      "metadata": {
        "id": "UmNzUm7hsML0",
        "colab_type": "text"
      },
      "source": [
        "# 1.3 A single back end for everything"
      ]
    },
    {
      "cell_type": "markdown",
      "metadata": {
        "id": "LftjZ4npsML0",
        "colab_type": "text"
      },
      "source": [
        "<img src=\"https://github.com/psygrammer/PsyStack/blob/master/AWSLambda/notebooks/ch01/figures/cap06.png?raw=1\" width=800 />"
      ]
    },
    {
      "cell_type": "markdown",
      "metadata": {
        "id": "LTpSKezMsML1",
        "colab_type": "text"
      },
      "source": [
        "<img src=\"https://github.com/psygrammer/PsyStack/blob/master/AWSLambda/notebooks/ch01/figures/cap07.png?raw=1\" width=800 />"
      ]
    },
    {
      "cell_type": "markdown",
      "metadata": {
        "id": "KAegxalpsML2",
        "colab_type": "text"
      },
      "source": [
        "<img src=\"https://github.com/psygrammer/PsyStack/blob/master/AWSLambda/notebooks/ch01/figures/cap08.png?raw=1\" width=800 />"
      ]
    },
    {
      "cell_type": "markdown",
      "metadata": {
        "id": "OhGhvTpOsML2",
        "colab_type": "text"
      },
      "source": [
        "<img src=\"https://github.com/psygrammer/PsyStack/blob/master/AWSLambda/notebooks/ch01/figures/cap09.png?raw=1\" width=800 />"
      ]
    },
    {
      "cell_type": "markdown",
      "metadata": {
        "id": "AyGLX3oLsML3",
        "colab_type": "text"
      },
      "source": [
        "-----------------------------"
      ]
    },
    {
      "cell_type": "markdown",
      "metadata": {
        "id": "rsOmhqQvsML3",
        "colab_type": "text"
      },
      "source": [
        "# 1.4 Event-driven application"
      ]
    },
    {
      "cell_type": "markdown",
      "metadata": {
        "id": "3d3WtiXUsML4",
        "colab_type": "text"
      },
      "source": [
        "<img src=\"https://github.com/psygrammer/PsyStack/blob/master/AWSLambda/notebooks/ch01/figures/cap10.png?raw=1\" width=800 />"
      ]
    },
    {
      "cell_type": "markdown",
      "metadata": {
        "id": "C5YQ1ZU-sML5",
        "colab_type": "text"
      },
      "source": [
        "<img src=\"https://github.com/psygrammer/PsyStack/blob/master/AWSLambda/notebooks/ch01/figures/cap11.png?raw=1\" width=800 />"
      ]
    },
    {
      "cell_type": "markdown",
      "metadata": {
        "id": "9Oo6ZltxsML6",
        "colab_type": "text"
      },
      "source": [
        "-----------------------------"
      ]
    },
    {
      "cell_type": "markdown",
      "metadata": {
        "id": "SIXoOGm-sML7",
        "colab_type": "text"
      },
      "source": [
        "# 1.5 Calling functions from a client"
      ]
    },
    {
      "cell_type": "markdown",
      "metadata": {
        "id": "7NZViAxpsML8",
        "colab_type": "text"
      },
      "source": [
        "<img src=\"https://github.com/psygrammer/PsyStack/blob/master/AWSLambda/notebooks/ch01/figures/cap12.png?raw=1\" width=800 />"
      ]
    },
    {
      "cell_type": "markdown",
      "metadata": {
        "id": "ES-R9zVHsML9",
        "colab_type": "text"
      },
      "source": [
        "<img src=\"https://github.com/psygrammer/PsyStack/blob/master/AWSLambda/notebooks/ch01/figures/cap13.png?raw=1\" width=800 />"
      ]
    },
    {
      "cell_type": "markdown",
      "metadata": {
        "id": "LGY7xW1esML9",
        "colab_type": "text"
      },
      "source": [
        "<img src=\"https://github.com/psygrammer/PsyStack/blob/master/AWSLambda/notebooks/ch01/figures/cap14.png?raw=1\" width=800 />"
      ]
    },
    {
      "cell_type": "markdown",
      "metadata": {
        "id": "_P05QyuHsML-",
        "colab_type": "text"
      },
      "source": [
        "<img src=\"https://github.com/psygrammer/PsyStack/blob/master/AWSLambda/notebooks/ch01/figures/cap15.png?raw=1\" width=800 />"
      ]
    },
    {
      "cell_type": "markdown",
      "metadata": {
        "id": "NRgZqifHsML_",
        "colab_type": "text"
      },
      "source": [
        "<img src=\"https://github.com/psygrammer/PsyStack/blob/master/AWSLambda/notebooks/ch01/figures/cap16.png?raw=1\" width=800 />"
      ]
    },
    {
      "cell_type": "markdown",
      "metadata": {
        "id": "H37B_gOgsML_",
        "colab_type": "text"
      },
      "source": [
        "-----------------------------"
      ]
    },
    {
      "cell_type": "markdown",
      "metadata": {
        "id": "iP8nIqJfsMMA",
        "colab_type": "text"
      },
      "source": [
        "# 참고자료\n",
        "* [1] AWS Lambda in Action \n",
        "    - https://www.amazon.com/AWS-Lambda-Action-Event-driven-applications/dp/1617293717\n",
        "    - https://livebook.manning.com/book/aws-lambda-in-action\n",
        "    - http://www.kyobobook.co.kr/product/detailViewKor.laf?ejkGb=KOR&mallGb=KOR&barcode=9791188621064&\n",
        "    - github - https://github.com/danilop/AWS_Lambda_in_Action"
      ]
    }
  ]
}