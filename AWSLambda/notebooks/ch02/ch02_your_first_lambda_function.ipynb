{
  "nbformat": 4,
  "nbformat_minor": 0,
  "metadata": {
    "colab": {
      "name": "ch02_your_first_lambda_function.ipynb",
      "provenance": [],
      "include_colab_link": true
    },
    "kernelspec": {
      "display_name": "Python 3",
      "language": "python",
      "name": "python3"
    },
    "language_info": {
      "codemirror_mode": {
        "name": "ipython",
        "version": 3
      },
      "file_extension": ".py",
      "mimetype": "text/x-python",
      "name": "python",
      "nbconvert_exporter": "python",
      "pygments_lexer": "ipython3",
      "version": "3.6.8"
    }
  },
  "cells": [
    {
      "cell_type": "markdown",
      "metadata": {
        "id": "view-in-github",
        "colab_type": "text"
      },
      "source": [
        "<a href=\"https://colab.research.google.com/github/psygrammer/PsyStack/blob/master/AWSLambda/notebooks/ch02/ch02_your_first_lambda_function.ipynb\" target=\"_parent\"><img src=\"https://colab.research.google.com/assets/colab-badge.svg\" alt=\"Open In Colab\"/></a>"
      ]
    },
    {
      "cell_type": "markdown",
      "metadata": {
        "colab_type": "text",
        "id": "EwgjgR1CBLH0"
      },
      "source": [
        "# 02. Your first Lambda function"
      ]
    },
    {
      "cell_type": "markdown",
      "metadata": {
        "id": "uv1H8SnAkm6A",
        "colab_type": "text"
      },
      "source": [
        "* 싸이그래머 / Ψ스택 - AWS Lamda [1]\n",
        "* 김무성"
      ]
    },
    {
      "cell_type": "markdown",
      "metadata": {
        "id": "6W6TJiKSCZGp",
        "colab_type": "text"
      },
      "source": [
        "-----------------------"
      ]
    },
    {
      "cell_type": "markdown",
      "metadata": {
        "id": "fdN2HSqcCZGq",
        "colab_type": "text"
      },
      "source": [
        "# Contents\n",
        "* 2.1. Creating a new function\n",
        "* 2.2. Writing the function\n",
        "* 2.3. Specifying other settings\n",
        "* 2.4. Testing the function\n",
        "* 2.5. Executing the function through the Lambda API"
      ]
    },
    {
      "cell_type": "markdown",
      "metadata": {
        "id": "tztre0DyCZGq",
        "colab_type": "text"
      },
      "source": [
        "-----------------------"
      ]
    },
    {
      "cell_type": "markdown",
      "metadata": {
        "id": "1BjbUSQACZGr",
        "colab_type": "text"
      },
      "source": [
        "# 2.1. Creating a new function"
      ]
    },
    {
      "cell_type": "markdown",
      "metadata": {
        "id": "Vv1Vm9B9CZGs",
        "colab_type": "text"
      },
      "source": [
        "<img src=\"https://github.com/psygrammer/PsyStack/blob/master/AWSLambda/notebooks/ch02/figures/cap01.png?raw=1\" width=800 />"
      ]
    },
    {
      "cell_type": "markdown",
      "metadata": {
        "id": "RVcEMD1OCZGs",
        "colab_type": "text"
      },
      "source": [
        "<img src=\"https://github.com/psygrammer/PsyStack/blob/master/AWSLambda/notebooks/ch02/figures/cap02.png?raw=1\" width=800 />"
      ]
    },
    {
      "cell_type": "markdown",
      "metadata": {
        "id": "_BIXdaPQCZGt",
        "colab_type": "text"
      },
      "source": [
        "<img src=\"https://github.com/psygrammer/PsyStack/blob/master/AWSLambda/notebooks/ch02/figures/cap03.png?raw=1\" width=800 />"
      ]
    },
    {
      "cell_type": "markdown",
      "metadata": {
        "id": "Rh1Npgq7CZGt",
        "colab_type": "text"
      },
      "source": [
        "-----------------------"
      ]
    },
    {
      "cell_type": "markdown",
      "metadata": {
        "id": "jSTq4WUECZGu",
        "colab_type": "text"
      },
      "source": [
        "# 2.2. Writing the function"
      ]
    },
    {
      "cell_type": "markdown",
      "metadata": {
        "id": "qPeqCXDPCZGv",
        "colab_type": "text"
      },
      "source": [
        "#### Listing 2.2. Function greetingsOnDemand (Python) \n",
        "\n",
        "```python\n",
        "import json\n",
        "print('Loading function')\n",
        "def lambda_handler(event, context):\n",
        "    print('Received event: ' +\n",
        "        json.dumps(event, indent=2))\n",
        "    if 'name' in event:\n",
        "        name = event['name']\n",
        "    else:\n",
        "        name = 'World'\n",
        "    greetings = 'Hello ' + name + '!'\n",
        "    print(greetings)\n",
        "    return greetings\n",
        "```"
      ]
    },
    {
      "cell_type": "markdown",
      "metadata": {
        "id": "Y0jig3EUCZGv",
        "colab_type": "text"
      },
      "source": [
        "-----------------------"
      ]
    },
    {
      "cell_type": "markdown",
      "metadata": {
        "id": "cPectpSTCZGw",
        "colab_type": "text"
      },
      "source": [
        "# 2.3. Specifying other settings"
      ]
    },
    {
      "cell_type": "markdown",
      "metadata": {
        "id": "jMCMPciCCZGw",
        "colab_type": "text"
      },
      "source": [
        "```shell\n",
        "<file name without extension>.<function name>\n",
        "```"
      ]
    },
    {
      "cell_type": "markdown",
      "metadata": {
        "id": "meciWGrYCZGx",
        "colab_type": "text"
      },
      "source": [
        "<img src=\"https://github.com/psygrammer/PsyStack/blob/master/AWSLambda/notebooks/ch02/figures/cap04.png?raw=1\" width=800 />"
      ]
    },
    {
      "cell_type": "markdown",
      "metadata": {
        "id": "IimSdiyHCZGy",
        "colab_type": "text"
      },
      "source": [
        "-----------------------"
      ]
    },
    {
      "cell_type": "markdown",
      "metadata": {
        "id": "EkRI5O_3CZGz",
        "colab_type": "text"
      },
      "source": [
        "# 2.4. Testing the function"
      ]
    },
    {
      "cell_type": "markdown",
      "metadata": {
        "id": "-UwImEVoCZG1",
        "colab_type": "text"
      },
      "source": [
        "<img src=\"https://github.com/psygrammer/PsyStack/blob/master/AWSLambda/notebooks/ch02/figures/cap05.png?raw=1\" width=800 />"
      ]
    },
    {
      "cell_type": "markdown",
      "metadata": {
        "id": "GuAMNRCaCZG2",
        "colab_type": "text"
      },
      "source": [
        "```shell\n",
        "{\n",
        "  \"name\": \"John\"\n",
        "}\n",
        "```"
      ]
    },
    {
      "cell_type": "markdown",
      "metadata": {
        "id": "qxCMTqQJCZG2",
        "colab_type": "text"
      },
      "source": [
        "<img src=\"https://github.com/psygrammer/PsyStack/blob/master/AWSLambda/notebooks/ch02/figures/cap06.png?raw=1\" width=800 />"
      ]
    },
    {
      "cell_type": "markdown",
      "metadata": {
        "id": "pmm5NDOiCZG3",
        "colab_type": "text"
      },
      "source": [
        "```shell\n",
        "{}\n",
        "```"
      ]
    },
    {
      "cell_type": "markdown",
      "metadata": {
        "id": "8DivbyuYCZG4",
        "colab_type": "text"
      },
      "source": [
        "-----------------------"
      ]
    },
    {
      "cell_type": "markdown",
      "metadata": {
        "id": "hc2-T2e-CZG4",
        "colab_type": "text"
      },
      "source": [
        "# 2.5. Executing the function through the Lambda API"
      ]
    },
    {
      "cell_type": "markdown",
      "metadata": {
        "id": "rtQLc6Y_CZG5",
        "colab_type": "text"
      },
      "source": [
        "```shell\n",
        "aws lambda invoke --function-name <function name> --payload '<JSON event>'\n",
        "<local output file>\n",
        "```"
      ]
    },
    {
      "cell_type": "markdown",
      "metadata": {
        "id": "mWRBV8sVCZG5",
        "colab_type": "text"
      },
      "source": [
        "```shell\n",
        "aws lambda invoke --function-name greetingsOnDemand --payload\n",
        "'{\"name\":\"John\"}' output.txt\n",
        "```"
      ]
    },
    {
      "cell_type": "markdown",
      "metadata": {
        "id": "06PAN4G_CZG6",
        "colab_type": "text"
      },
      "source": [
        "```shell\n",
        "aws lambda invoke --function-name greetingsOnDemand-py --payload '{}'\n",
        "output.txt\n",
        "```"
      ]
    },
    {
      "cell_type": "markdown",
      "metadata": {
        "id": "5Rffq3tECZG8",
        "colab_type": "text"
      },
      "source": [
        "```shell\n",
        "aws lambda invoke help\n",
        "```"
      ]
    },
    {
      "cell_type": "markdown",
      "metadata": {
        "id": "n3JlX8UjCZG9",
        "colab_type": "text"
      },
      "source": [
        "<img src=\"https://github.com/psygrammer/PsyStack/blob/master/AWSLambda/notebooks/ch02/figures/cap07.png?raw=1\" width=800 />"
      ]
    },
    {
      "cell_type": "markdown",
      "metadata": {
        "id": "YLHZPVCOCZG9",
        "colab_type": "text"
      },
      "source": [
        "-----------------------"
      ]
    },
    {
      "cell_type": "markdown",
      "metadata": {
        "id": "Ay9XPAbhCZG-",
        "colab_type": "text"
      },
      "source": [
        "# 참고자료\n",
        "* [1] AWS Lambda in Action \n",
        "    - https://www.amazon.com/AWS-Lambda-Action-Event-driven-applications/dp/1617293717\n",
        "    - https://livebook.manning.com/book/aws-lambda-in-action\n",
        "    - http://www.kyobobook.co.kr/product/detailViewKor.laf?ejkGb=KOR&mallGb=KOR&barcode=9791188621064&\n",
        "    - github - https://github.com/danilop/AWS_Lambda_in_Action\n",
        "* [2] Beginner's Guide to Writing AWS Lambda Functions in Python\n",
        "  -  https://github.com/noahgift/awslambda/blob/master/beginners_guide_aws_lambda.ipynb\n",
        "* [3] \n",
        "  - http://docs.aws.amazon.com/IAM/latest/UserGuide/id_users_create.html\n",
        "* [4] \n",
        "  - https://aws.amazon.com/ko/getting-started/tutorials/run-serverless-code/"
      ]
    }
  ]
}